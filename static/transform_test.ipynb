{
 "cells": [
  {
   "cell_type": "code",
   "execution_count": 1,
   "metadata": {},
   "outputs": [],
   "source": [
    "import json"
   ]
  },
  {
   "cell_type": "code",
   "execution_count": 4,
   "metadata": {},
   "outputs": [],
   "source": [
    "# load new json file\n",
    "with open('C:/Users/sucho/OneDrive - UCB-O365/Desktop/Research projects/SCI/schema-interface-rs/static/SF3template.json') as f:\n",
    "    new_schema_format = json.load(f)\n",
    "\n",
    "# load old json file\n",
    "with open('C:/Users/sucho/OneDrive - UCB-O365/Desktop/Research projects/SCI/schema-interface-rs/static/restaurant_schema.json') as f:\n",
    "    old_schema_format = json.load(f)"
   ]
  },
  {
   "cell_type": "code",
   "execution_count": 10,
   "metadata": {},
   "outputs": [],
   "source": [
    "schema_key_dict = {\n",
    "    'event': ['@id', 'name', 'comment', 'description', 'aka', 'qnode', 'qlabel', 'isSchema', 'goal', 'ta1explanation', 'importance', 'children_gate', 'instanceOf', 'probParent', 'probChild', 'probability', 'liklihood', 'wd_node', 'wd_label', 'wd_description', 'modality', 'participants', 'privateData', 'outlinks', 'entities', 'relations', 'children', 'optional', 'repeatable'],\n",
    "    'children': ['child', 'comment', 'optional', 'importance', 'outlinks'],\n",
    "    'privateData': ['@type', 'template', 'repeatable', 'importance'],\n",
    "    'entity': ['name', '@id', 'qnode', 'qlabel', 'centrality', 'wd_node', 'wd_label', 'wd_description', 'modality', 'aka','properties'],\n",
    "    'properties': ['property values'],\n",
    "    'relation': ['name', 'wd_node', 'wd_label', 'modality', 'wd_description', 'ta1ref', 'relationSubject', 'relationObject', 'relationPredicate']\n",
    "}"
   ]
  },
  {
   "cell_type": "code",
   "execution_count": 16,
   "metadata": {},
   "outputs": [],
   "source": [
    "def update_json(values):\n",
    "    \"\"\"Updates JSON with values.\n",
    "\n",
    "    Parameters:\n",
    "    values (dict): contains node id, key, and value to change key to.\n",
    "    e.g. {id: node_id, key: name, value: Test}\n",
    "\n",
    "    Returns:\n",
    "    schemaJson (dict): new JSON \n",
    "    \"\"\"\n",
    "    global schema_json\n",
    "    new_json = schema_json\n",
    "    node_id = values['id']\n",
    "    node_type = False\n",
    "    print(\"Received Values: \", values)\n",
    "    print(\"node_id: \", node_id)\n",
    "    key = values['key']\n",
    "    new_value = values['value']\n",
    "    if key in ['source', 'target']:\n",
    "        node_type = 'edge'\n",
    "        return new_json\n",
    "    else:\n",
    "        node_type = node_id.split('/')[0].split(':')[-1].lower()\n",
    "    is_root = node_id == 'Events/10000/'\n",
    "\n",
    "    # TODO how to edit relations and participants through the sidebar?\n",
    "\n",
    "    # entities\n",
    "    if node_type == 'entities':\n",
    "        # entity data\n",
    "        for entity in new_json['events']['entities']:\n",
    "            if entity['@id'] == node_id:\n",
    "                entity[key] = new_value\n",
    "        if key != '@id':\n",
    "            schema_json = new_json\n",
    "            return schema_json\n",
    "        else:\n",
    "            # relation data\n",
    "            for relation in new_json['events']['relations']:\n",
    "                if relation['relationSubject'] == node_id:\n",
    "                    relation['relationSubject'] = new_value\n",
    "                if relation['relationObject'] == node_id:\n",
    "                    relation['relationObject'] = new_value\n",
    "                pass\n",
    "\n",
    "    # nodes\n",
    "    # child key\n",
    "    if key == 'name':\n",
    "        child_key = 'comment'\n",
    "    elif key == '@id':\n",
    "        child_key = 'child'\n",
    "    else:\n",
    "        child_key = key\n",
    "\n",
    "    for scheme in new_json['events']:\n",
    "        # entity id search\n",
    "        if node_type == 'entities':\n",
    "            if 'participants' in scheme:\n",
    "                for participant in scheme['participants']:\n",
    "                    if participant['entity'] == node_id:\n",
    "                        participant['entity'] = new_value\n",
    "                        # if entity is blank, add 'Entities/20000/'\n",
    "                        if participant['entity'] == '':\n",
    "                            participant['entity'] = 'Entities/20000/'\n",
    "\n",
    "        else:\n",
    "            # scheme data\n",
    "            if scheme['@id'] == node_id:\n",
    "                if key in scheme:\n",
    "                    scheme[key] = new_value\n",
    "                    if key == 'comment':\n",
    "                        break\n",
    "                    if key in schema_key_dict['event'] or is_root:\n",
    "                        break\n",
    "                elif key in schema_key_dict['privateData'] and 'privateData' in scheme:\n",
    "                    if key in scheme['privateData']:\n",
    "                        scheme['privateData'][key] = new_value\n",
    "                        break\n",
    "            # children data\n",
    "            if 'children' in scheme and child_key in schema_key_dict['child']:\n",
    "                for child in scheme['children']:\n",
    "                    # child\n",
    "                    if child['child'] == node_id:\n",
    "                        child[child_key] = new_value\n",
    "                    # child outlinks\n",
    "                    if child_key == 'child':\n",
    "                        for i in range(len(child['outlinks'])):\n",
    "                            if child['outlinks'][i] == node_id:\n",
    "                                child['outlinks'][i] = new_value\n",
    "            # participant data is not listed in sidebar\n",
    "\n",
    "    schema_json = new_json\n",
    "    return schema_json"
   ]
  },
  {
   "cell_type": "code",
   "execution_count": 17,
   "metadata": {},
   "outputs": [
    {
     "ename": "NameError",
     "evalue": "name 'schema_json' is not defined",
     "output_type": "error",
     "traceback": [
      "\u001b[1;31m---------------------------------------------------------------------------\u001b[0m",
      "\u001b[1;31mNameError\u001b[0m                                 Traceback (most recent call last)",
      "\u001b[1;32m~\\AppData\\Local\\Temp/ipykernel_16388/1160748350.py\u001b[0m in \u001b[0;36m<module>\u001b[1;34m\u001b[0m\n\u001b[1;32m----> 1\u001b[1;33m \u001b[0mupdate_json\u001b[0m\u001b[1;33m(\u001b[0m\u001b[0mold_schema_format\u001b[0m\u001b[1;33m)\u001b[0m\u001b[1;33m\u001b[0m\u001b[1;33m\u001b[0m\u001b[0m\n\u001b[0m",
      "\u001b[1;32m~\\AppData\\Local\\Temp/ipykernel_16388/1971010835.py\u001b[0m in \u001b[0;36mupdate_json\u001b[1;34m(values)\u001b[0m\n\u001b[0;32m     10\u001b[0m     \"\"\"\n\u001b[0;32m     11\u001b[0m     \u001b[1;32mglobal\u001b[0m \u001b[0mschema_json\u001b[0m\u001b[1;33m\u001b[0m\u001b[1;33m\u001b[0m\u001b[0m\n\u001b[1;32m---> 12\u001b[1;33m     \u001b[0mnew_json\u001b[0m \u001b[1;33m=\u001b[0m \u001b[0mschema_json\u001b[0m\u001b[1;33m\u001b[0m\u001b[1;33m\u001b[0m\u001b[0m\n\u001b[0m\u001b[0;32m     13\u001b[0m     \u001b[0mnode_id\u001b[0m \u001b[1;33m=\u001b[0m \u001b[0mvalues\u001b[0m\u001b[1;33m[\u001b[0m\u001b[1;34m'id'\u001b[0m\u001b[1;33m]\u001b[0m\u001b[1;33m\u001b[0m\u001b[1;33m\u001b[0m\u001b[0m\n\u001b[0;32m     14\u001b[0m     \u001b[0mnode_type\u001b[0m \u001b[1;33m=\u001b[0m \u001b[1;32mFalse\u001b[0m\u001b[1;33m\u001b[0m\u001b[1;33m\u001b[0m\u001b[0m\n",
      "\u001b[1;31mNameError\u001b[0m: name 'schema_json' is not defined"
     ]
    }
   ],
   "source": [
    "update_json(old_schema_format)"
   ]
  },
  {
   "cell_type": "code",
   "execution_count": 8,
   "metadata": {},
   "outputs": [],
   "source": [
    "# Now, we need to create a function which will transform the new schema format to the old schema format\n",
    "def transform_schema(new_schema_format, old_schema_format):\n",
    "    # create a new dictionary to store the transformed schema\n",
    "\n"
   ]
  }
 ],
 "metadata": {
  "kernelspec": {
   "display_name": "ML",
   "language": "python",
   "name": "python3"
  },
  "language_info": {
   "codemirror_mode": {
    "name": "ipython",
    "version": 3
   },
   "file_extension": ".py",
   "mimetype": "text/x-python",
   "name": "python",
   "nbconvert_exporter": "python",
   "pygments_lexer": "ipython3",
   "version": "3.9.7"
  },
  "orig_nbformat": 4,
  "vscode": {
   "interpreter": {
    "hash": "e530a0ec4f89691a3570a23854f3e33c263ad382918e13908e694f64bd8a6257"
   }
  }
 },
 "nbformat": 4,
 "nbformat_minor": 2
}
